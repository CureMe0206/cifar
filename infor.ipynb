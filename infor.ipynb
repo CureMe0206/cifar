{
 "cells": [
  {
   "cell_type": "code",
   "execution_count": 3,
   "metadata": {},
   "outputs": [],
   "source": [
    "import pickle \n",
    "import numpy as np\n",
    "import os"
   ]
  },
  {
   "cell_type": "code",
   "execution_count": 4,
   "metadata": {},
   "outputs": [
    {
     "name": "stdout",
     "output_type": "stream",
     "text": [
      "['batches.meta', 'data_batch_1', 'data_batch_2', 'data_batch_3', 'data_batch_4', 'data_batch_5', 'readme.html', 'test_batch']\n"
     ]
    }
   ],
   "source": [
    "CIFAR_DIR = \"./cifar-10-batches-py/\"\n",
    "$\n",
    "print(os.listdir(CIFAR_DIR))"
   ]
  },
  {
   "cell_type": "code",
   "execution_count": 23,
   "metadata": {},
   "outputs": [
    {
     "name": "stdout",
     "output_type": "stream",
     "text": [
      "<class 'dict'>\n",
      "dict_keys([b'batch_label', b'labels', b'data', b'filenames'])\n",
      "<class 'bytes'>\n",
      "<class 'list'>\n",
      "<class 'numpy.ndarray'>\n",
      "<class 'list'>\n",
      "b'training batch 1 of 5'\n",
      "[6, 9]\n",
      "[[ 59  43  50 ... 140  84  72]\n",
      " [154 126 105 ... 139 142 144]]\n",
      "[b'leptodactylus_pentadactylus_s_000004.png', b'camion_s_000148.png']\n",
      "(10000, 3072)\n"
     ]
    }
   ],
   "source": [
    "with open(os.path.join(CIFAR_DIR,\"data_batch_1\"),'rb') as f:\n",
    "    data = pickle.load(f,encoding='bytes')\n",
    "    #首先看下数据类型----dict\n",
    "    print(type(data))\n",
    "    #看下keys  是直接加（）\n",
    "    print(data.keys())\n",
    "    #得到key，看下key里的内容的类型\n",
    "    print(type(data[b'batch_label']))\n",
    "    print(type(data[b'labels']))\n",
    "    print(type(data[b'data']))\n",
    "    print(type(data[b'filenames']))\n",
    "    #由类型看下内容\n",
    "    print(data[b'batch_label'])\n",
    "    print(data[b'labels'][0:2])\n",
    "    print(data[b'data'][0:2])\n",
    "    print(data[b'filenames'][0:2])\n",
    "    #看下数据是怎么存储的\n",
    "    print(data[b'data'].shape)"
   ]
  },
  {
   "cell_type": "code",
   "execution_count": 38,
   "metadata": {},
   "outputs": [
    {
     "name": "stdout",
     "output_type": "stream",
     "text": [
      "(3072,)\n",
      "(3, 32, 32)\n",
      "(32, 32, 3)\n"
     ]
    },
    {
     "data": {
      "image/png": "[encoded data removed]",
      "text/plain": [
       "<matplotlib.figure.Figure at 0x16c04b44f98>"
      ]
     },
     "metadata": {},
     "output_type": "display_data"
    }
   ],
   "source": [
    "#看下图片的样子\n",
    "data1 = data[b'data'][1000]\n",
    "#看下数据的存储方式\n",
    "print(data1.shape)\n",
    "#将其看招RGB形式改变类型,三个通道，宽高32*32\n",
    "data1 = data1.reshape(3,32,32)\n",
    "print(data1.shape)\n",
    "#真实图片是32*32*3  所有需要改变位置\n",
    "data1 = data1.transpose((1,2,0))\n",
    "print(data1.shape)\n",
    "#展示图片\n",
    "import matplotlib.pyplot as plt\n",
    "plt.figure(figsize=(1,1))\n",
    "plt.imshow(data1)\n",
    "plt.show()"
   ]
  },
  {
   "cell_type": "code",
   "execution_count": null,
   "metadata": {},
   "outputs": [],
   "source": []
  }
 ],
 "metadata": {
  "kernelspec": {
   "display_name": "Python 3",
   "language": "python",
   "name": "python3"
  },
  "language_info": {
   "codemirror_mode": {
    "name": "ipython",
    "version": 3
   },
   "file_extension": ".py",
   "mimetype": "text/x-python",
   "name": "python",
   "nbconvert_exporter": "python",
   "pygments_lexer": "ipython3",
   "version": "3.6.4"
  }
 },
 "nbformat": 4,
 "nbformat_minor": 2
}
